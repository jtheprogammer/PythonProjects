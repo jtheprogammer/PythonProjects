{
 "cells": [
  {
   "cell_type": "code",
   "execution_count": 1,
   "id": "cff97381",
   "metadata": {},
   "outputs": [],
   "source": [
    "import math"
   ]
  },
  {
   "cell_type": "markdown",
   "id": "5e927048",
   "metadata": {},
   "source": [
    "### Mean: The average of values"
   ]
  },
  {
   "cell_type": "code",
   "execution_count": 2,
   "id": "2e945649",
   "metadata": {},
   "outputs": [
    {
     "name": "stdout",
     "output_type": "stream",
     "text": [
      "Mean : 3.0\n"
     ]
    }
   ],
   "source": [
    "def mean(*args):\n",
    "    val_sum = sum(args)\n",
    "    return val_sum /len(args)\n",
    "print(f'Mean : {mean(1,2,3,4,5)}')"
   ]
  },
  {
   "cell_type": "code",
   "execution_count": 3,
   "id": "e13c80a5",
   "metadata": {},
   "outputs": [],
   "source": [
    "def mean_for_lists(lista):\n",
    "    val_sum = sum(lista)\n",
    "    return val_sum /len(lista)"
   ]
  },
  {
   "cell_type": "code",
   "execution_count": 4,
   "id": "735b09be",
   "metadata": {},
   "outputs": [
    {
     "name": "stdout",
     "output_type": "stream",
     "text": [
      "Mean : 3.0\n",
      "Mean : 58.8\n"
     ]
    }
   ],
   "source": [
    "mean_list1 = [32, 56, 99, 83, 24]\n",
    "\n",
    "print(f'Mean : {mean_for_lists([1,2,3,4,5])}')\n",
    "print(f'Mean : {mean_for_lists(mean_list1)}')\n",
    "\n",
    "# print(mean(mean_list1)) <-- results in TypeError"
   ]
  },
  {
   "cell_type": "markdown",
   "id": "0aa9e2d3",
   "metadata": {},
   "source": [
    "### Median: the middle number in a numerically-sorted odd dataset\n",
    "### or the average of the 2 middle news in an even dataset"
   ]
  },
  {
   "cell_type": "code",
   "execution_count": 5,
   "id": "5ebfc970",
   "metadata": {},
   "outputs": [],
   "source": [
    "def median(*args):\n",
    "    if len(args) % 2 == 0:\n",
    "        # you use round() to leave you at the number immediately right to the center\n",
    "        i = round((len(args) + 1) / 2) \n",
    "        j = i - 1\n",
    "        return ((args[i] + args[j]) / 2)\n",
    "    \n",
    "    else:\n",
    "        k = round(len(args)/ 2)\n",
    "        return args[k]  "
   ]
  },
  {
   "cell_type": "code",
   "execution_count": 6,
   "id": "4776ab6c",
   "metadata": {},
   "outputs": [],
   "source": [
    "def sort_and_median(*args):\n",
    "    sorted_list = []\n",
    "    for arg in args:\n",
    "        sorted_list += arg\n",
    "        sorted_list.sort()\n",
    "    \n",
    "    if len(sorted_list) % 2 == 0:\n",
    "        i = round((len(sorted_list) + 1) / 2)\n",
    "        j = i - 1\n",
    "        return ((sorted_list[i] + sorted_list[j]) / 2)\n",
    "    \n",
    "    else:\n",
    "        k = round(len(sorted_list)/ 2)\n",
    "        return sorted_list[k]"
   ]
  },
  {
   "cell_type": "code",
   "execution_count": 7,
   "id": "69764f99",
   "metadata": {
    "scrolled": true
   },
   "outputs": [
    {
     "name": "stdout",
     "output_type": "stream",
     "text": [
      "15.5\n",
      "61.5\n",
      "46\n"
     ]
    }
   ],
   "source": [
    "even_list = [85, 13, 45, 67, 54, 56, 99, 75]\n",
    "odd_list = [24, 56, 86, 94, 24, 33, 14, 78, 46]\n",
    "\n",
    "# the median function works, presuming the list is PRE-SORTED\n",
    "print(median(9, 10, 12, 13, 13, 13, 15, 15, 16, 16, 18, 22, 23, 24, 24, 25))\n",
    "\n",
    "# sort_and_median takes in a list, sorts it numerically and determines the median\n",
    "print(sort_and_median(even_list))\n",
    "print(sort_and_median(odd_list))"
   ]
  },
  {
   "cell_type": "markdown",
   "id": "4060ef5c",
   "metadata": {},
   "source": [
    "## Mode: the number(s) that appear the most often"
   ]
  },
  {
   "cell_type": "code",
   "execution_count": 8,
   "id": "9bbbbf4e",
   "metadata": {},
   "outputs": [],
   "source": [
    "def mode(*args):\n",
    "    # Creates a dictionary which sorts the 'number' in a list as a key\n",
    "    # with its corresponding value being how many times it appeared\n",
    "    dict_vals = {i : args.count(i) for i in args}\n",
    "    \n",
    "    #Creates a list which searches for and pulls the dictionary key value (a number), \n",
    "    # if its count value is the highest within the dictionary\n",
    "    max_list = [k for k,v in dict_vals.items() if v == max(dict_vals.values())]\n",
    "    return max_list"
   ]
  },
  {
   "cell_type": "code",
   "execution_count": 9,
   "id": "319c8dd6",
   "metadata": {},
   "outputs": [
    {
     "name": "stdout",
     "output_type": "stream",
     "text": [
      "[3, 5]\n"
     ]
    }
   ],
   "source": [
    "print(mode(1,2,3,3,4,5,5,4,5,5,3,3))"
   ]
  },
  {
   "cell_type": "markdown",
   "id": "bef48f88",
   "metadata": {},
   "source": [
    "### Variance: average degree to which each point differs from the mean; measure of average dispersion of data points"
   ]
  },
  {
   "cell_type": "markdown",
   "id": "a4f423f1",
   "metadata": {},
   "source": [
    "Sample Variance $\\Large S^2 = \\frac{\\sum \\limits_{i=1}^{n}(x_{i} - \\overline{x})}{n-1}$  \n",
    "Population Variance $\\Large \\sigma^2 = \\frac{\\sum \\limits_{i=1}^{N}(\\overline{x} - \\mu)}{N-1}$  "
   ]
  },
  {
   "cell_type": "code",
   "execution_count": 10,
   "id": "1caa5f48",
   "metadata": {},
   "outputs": [],
   "source": [
    "def variance(*args):\n",
    "    mean_value = mean(*args)\n",
    "    numerator = 0\n",
    "    for i in args:\n",
    "        numerator += (i - mean_value)**2\n",
    "        \n",
    "    denominator = len(args) - 1\n",
    "    \n",
    "    return numerator/denominator"
   ]
  },
  {
   "cell_type": "code",
   "execution_count": 11,
   "id": "965604a5",
   "metadata": {},
   "outputs": [],
   "source": [
    "def variance_of_list(lista):\n",
    "    mean_value = mean_for_lists(lista)\n",
    "    numerator = 0\n",
    "    for i in lista:\n",
    "        numerator += (i - mean_value)**2\n",
    "        \n",
    "    denominator = len(lista) - 1\n",
    "    \n",
    "    return numerator/denominator"
   ]
  },
  {
   "cell_type": "code",
   "execution_count": 12,
   "id": "62bfc183",
   "metadata": {},
   "outputs": [
    {
     "name": "stdout",
     "output_type": "stream",
     "text": [
      "464.4\n",
      "464.4\n"
     ]
    }
   ],
   "source": [
    "test_list = [34, 46, 66, 75, 78, 85, 87, 90, 98, 99]\n",
    "print(round(variance(34, 46, 66, 75, 78, 85, 87, 90, 98, 99), 2))\n",
    "print(round(variance_of_list(test_list), 2))"
   ]
  },
  {
   "cell_type": "markdown",
   "id": "cc4f7f6c",
   "metadata": {},
   "source": [
    "### Standard Deviation:  measure of the dispersion of observations within a data set RELATIVE to their mean"
   ]
  },
  {
   "cell_type": "markdown",
   "id": "30367152",
   "metadata": {},
   "source": [
    "Population Standard Deviation $\\Large \\sigma = \\sqrt{\\frac{1}{N-1} \\cdot \\sum \\limits_{i=1}^{N}(\\overline{x} - \\mu)^2}$ "
   ]
  },
  {
   "cell_type": "code",
   "execution_count": 13,
   "id": "3c41b175",
   "metadata": {},
   "outputs": [],
   "source": [
    "def standard_deviation(*args):\n",
    "    return math.sqrt(variance(*args))"
   ]
  },
  {
   "cell_type": "code",
   "execution_count": 14,
   "id": "b9323283",
   "metadata": {},
   "outputs": [],
   "source": [
    "def standard_deviation_of_list(lista):\n",
    "    return math.sqrt(variance_of_list(lista))"
   ]
  },
  {
   "cell_type": "code",
   "execution_count": 15,
   "id": "fc31039b",
   "metadata": {},
   "outputs": [
    {
     "name": "stdout",
     "output_type": "stream",
     "text": [
      "21.55\n",
      "21.55\n"
     ]
    }
   ],
   "source": [
    "print(round(standard_deviation(34, 46, 66, 75, 78, 85, 87, 90, 98, 99), 2))\n",
    "print(round(standard_deviation_of_list(test_list),2))"
   ]
  },
  {
   "cell_type": "markdown",
   "id": "eb058b8f",
   "metadata": {},
   "source": [
    "### Coefficient of Variance (CV): relative dispersion of data points in a data series (multiple data sets) around the mean"
   ]
  },
  {
   "cell_type": "markdown",
   "id": "d517ac04",
   "metadata": {},
   "source": [
    "$ CV = \\frac{\\sigma}{\\mu}$"
   ]
  },
  {
   "cell_type": "code",
   "execution_count": 16,
   "id": "958b5408",
   "metadata": {},
   "outputs": [],
   "source": [
    "def coef_variation(*args):\n",
    "    return standard_deviation(*args)/mean(*args)"
   ]
  },
  {
   "cell_type": "code",
   "execution_count": 17,
   "id": "a8fa3ef9",
   "metadata": {},
   "outputs": [
    {
     "data": {
      "text/plain": [
       "0.39528470752104744"
      ]
     },
     "execution_count": 17,
     "metadata": {},
     "output_type": "execute_result"
    }
   ],
   "source": [
    "coef_variation(4,3,6,5,2)"
   ]
  },
  {
   "cell_type": "code",
   "execution_count": 18,
   "id": "ed98d29f",
   "metadata": {},
   "outputs": [
    {
     "name": "stdout",
     "output_type": "stream",
     "text": [
      "CV miles : 0.17213259316477408\n",
      "CV KM : 0.17214686292344047\n"
     ]
    }
   ],
   "source": [
    "print(f'CV miles : {coef_variation(3,4,4.5,3.5)}')\n",
    "print(f'CV KM : {coef_variation(4.828, 6.437, 7.242, 5.632)}')"
   ]
  },
  {
   "cell_type": "code",
   "execution_count": 19,
   "id": "3238a5d8",
   "metadata": {},
   "outputs": [],
   "source": [
    "# the example above shows that the conversion between mi to km is identical"
   ]
  },
  {
   "cell_type": "markdown",
   "id": "c88c5dde",
   "metadata": {},
   "source": [
    "### Covariance & Correlation Coefficient (r)"
   ]
  },
  {
   "cell_type": "markdown",
   "id": "9d00816a",
   "metadata": {},
   "source": [
    "Covariance $\\Large Cov = \\frac{\\sum \\limits_{i=1}^{n}(x_{i} - \\overline{x}) \\cdot (y_{i} - \\overline{y})}{n-1}$ \n",
    "\n",
    "Sample Variance $\\Large S^2 = \\frac{\\sum \\limits_{i=1}^{n}(x_{i} - \\overline{x})}{n-1}$  "
   ]
  },
  {
   "cell_type": "markdown",
   "id": "f04264f8",
   "metadata": {},
   "source": [
    "### Fun fact: The quotient of the values above Cov(X,Y)/S(X) = slope of a linear regression (m)"
   ]
  },
  {
   "cell_type": "markdown",
   "id": "e445df2a",
   "metadata": {},
   "source": [
    "$ \\Large \\hat{m} = \\frac{\\sum \\limits_{i=1}^{n}(x_{i} - \\overline{x}) \\cdot (y_{i} - \\overline{y})}{\\sum \\limits_{i=1}^{n}(x_{i} - \\overline{x})} = \\frac{\\Delta y}{\\Delta x} $"
   ]
  },
  {
   "cell_type": "code",
   "execution_count": 20,
   "id": "dd1ec512",
   "metadata": {},
   "outputs": [],
   "source": [
    "market_cap = [1532, 1488, 1343, 928, 615]\n",
    "earnings = [58, 35, 75, 41, 17]"
   ]
  },
  {
   "cell_type": "code",
   "execution_count": 21,
   "id": "2d792037",
   "metadata": {},
   "outputs": [],
   "source": [
    "def covariance(list1, list2):\n",
    "    # Finding the mean for each data series\n",
    "    mean_list1 = mean_for_lists(list1)\n",
    "    mean_list2 = mean_for_lists(list2)\n",
    "\n",
    "    # Creating a list which holds the difference of the mean and \n",
    "    # each individual elements for both lists\n",
    "    sub_list1 = [i - mean_list1 for i in list1]\n",
    "    sub_list2 = [i - mean_list2 for i in list2]\n",
    "    \n",
    "    \n",
    "    # Numerator: Multiplies the 'difference of the mean' value for both elements in the \n",
    "    # same index, for the span of the list. Then, performs the summation, which sums up \n",
    "    # all of the products\n",
    "    \n",
    "    numerator = sum([sub_list1[i]*sub_list2[i] for i in range(len(sub_list1))])\n",
    "    denominator = len(list1) - 1\n",
    "    cov = numerator/denominator\n",
    "    return cov"
   ]
  },
  {
   "cell_type": "code",
   "execution_count": 22,
   "id": "829557cf",
   "metadata": {},
   "outputs": [
    {
     "data": {
      "text/plain": [
       "5803.200000000001"
      ]
     },
     "execution_count": 22,
     "metadata": {},
     "output_type": "execute_result"
    }
   ],
   "source": [
    "covariance(market_cap, earnings)"
   ]
  },
  {
   "cell_type": "markdown",
   "id": "3e613178",
   "metadata": {},
   "source": [
    "### The correlation coefficient (r) uses the covariance  and standard deviations to yield a more definitive measure of how 2 datasets are trending"
   ]
  },
  {
   "cell_type": "markdown",
   "id": "3088aadc",
   "metadata": {},
   "source": [
    "$\\Large r = \\frac{Cov(X,Y)}{S(X) \\cdot S(Y)} $"
   ]
  },
  {
   "cell_type": "code",
   "execution_count": 23,
   "id": "011171ae",
   "metadata": {},
   "outputs": [],
   "source": [
    "def correlation_coefficient(list1, list2):\n",
    "    numerator = covariance(list1, list2)\n",
    "    denominator = standard_deviation_of_list(list1) * standard_deviation_of_list(list2)\n",
    "    return numerator/denominator"
   ]
  },
  {
   "cell_type": "code",
   "execution_count": 24,
   "id": "5cf28342",
   "metadata": {},
   "outputs": [
    {
     "name": "stdout",
     "output_type": "stream",
     "text": [
      "5803.200000000001\n",
      "396.2508044155873\n",
      "22.185580902919806\n",
      "0.660125602195931\n"
     ]
    }
   ],
   "source": [
    "print(covariance(market_cap, earnings))\n",
    "print(standard_deviation_of_list(market_cap))\n",
    "print(standard_deviation_of_list(earnings))\n",
    "print(correlation_coefficient(market_cap, earnings))"
   ]
  },
  {
   "cell_type": "code",
   "execution_count": 25,
   "id": "df3361c1",
   "metadata": {},
   "outputs": [],
   "source": [
    "# turning the data into a dictionary then DataFrame with Pandas\n",
    "import pandas as pd"
   ]
  },
  {
   "cell_type": "code",
   "execution_count": 26,
   "id": "54066620",
   "metadata": {},
   "outputs": [],
   "source": [
    "def hows_the_trend(r):\n",
    "    if r > (-0.75) and r < 0.25:\n",
    "        return 'NT'\n",
    "    if r > 0.25:\n",
    "        return 'pos'\n",
    "    if r < -0.75:\n",
    "        return 'neg'"
   ]
  },
  {
   "cell_type": "code",
   "execution_count": 27,
   "id": "7f05c926",
   "metadata": {},
   "outputs": [
    {
     "name": "stdout",
     "output_type": "stream",
     "text": [
      "pos\n"
     ]
    }
   ],
   "source": [
    "r_test = correlation_coefficient(market_cap, earnings)\n",
    "print(hows_the_trend(r_test))"
   ]
  },
  {
   "cell_type": "code",
   "execution_count": 28,
   "id": "3f4d5928",
   "metadata": {},
   "outputs": [],
   "source": [
    "stats = {\n",
    "    'Cov' : [f'{covariance(market_cap, earnings)}'],\n",
    "    'StndDevMC' : [f'{(standard_deviation_of_list(market_cap))}'],\n",
    "    'StndDevE' : [f'{standard_deviation_of_list(earnings)}'],\n",
    "    'r': [f'{correlation_coefficient(market_cap, earnings)}'],\n",
    "    'Trend': [f'{hows_the_trend(r_test)}']\n",
    "}"
   ]
  },
  {
   "cell_type": "code",
   "execution_count": 29,
   "id": "04a67223",
   "metadata": {},
   "outputs": [
    {
     "data": {
      "text/html": [
       "<div>\n",
       "<style scoped>\n",
       "    .dataframe tbody tr th:only-of-type {\n",
       "        vertical-align: middle;\n",
       "    }\n",
       "\n",
       "    .dataframe tbody tr th {\n",
       "        vertical-align: top;\n",
       "    }\n",
       "\n",
       "    .dataframe thead th {\n",
       "        text-align: right;\n",
       "    }\n",
       "</style>\n",
       "<table border=\"1\" class=\"dataframe\">\n",
       "  <thead>\n",
       "    <tr style=\"text-align: right;\">\n",
       "      <th></th>\n",
       "      <th>Cov</th>\n",
       "      <th>StndDevMC</th>\n",
       "      <th>StndDevE</th>\n",
       "      <th>r</th>\n",
       "      <th>Trend</th>\n",
       "    </tr>\n",
       "  </thead>\n",
       "  <tbody>\n",
       "    <tr>\n",
       "      <th>0</th>\n",
       "      <td>5803.200000000001</td>\n",
       "      <td>396.2508044155873</td>\n",
       "      <td>22.185580902919806</td>\n",
       "      <td>0.660125602195931</td>\n",
       "      <td>pos</td>\n",
       "    </tr>\n",
       "  </tbody>\n",
       "</table>\n",
       "</div>"
      ],
      "text/plain": [
       "                 Cov          StndDevMC            StndDevE  \\\n",
       "0  5803.200000000001  396.2508044155873  22.185580902919806   \n",
       "\n",
       "                   r Trend  \n",
       "0  0.660125602195931   pos  "
      ]
     },
     "execution_count": 29,
     "metadata": {},
     "output_type": "execute_result"
    }
   ],
   "source": [
    "df = pd.DataFrame.from_dict(stats)\n",
    "df"
   ]
  }
 ],
 "metadata": {
  "kernelspec": {
   "display_name": "Python 3 (ipykernel)",
   "language": "python",
   "name": "python3"
  },
  "language_info": {
   "codemirror_mode": {
    "name": "ipython",
    "version": 3
   },
   "file_extension": ".py",
   "mimetype": "text/x-python",
   "name": "python",
   "nbconvert_exporter": "python",
   "pygments_lexer": "ipython3",
   "version": "3.8.11"
  }
 },
 "nbformat": 4,
 "nbformat_minor": 5
}
